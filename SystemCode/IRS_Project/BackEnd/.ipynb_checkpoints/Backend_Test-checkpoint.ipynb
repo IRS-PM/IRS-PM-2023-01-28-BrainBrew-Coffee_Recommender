{
 "cells": [
  {
   "cell_type": "code",
   "execution_count": null,
   "id": "fc32108e",
   "metadata": {},
   "outputs": [],
   "source": [
    "# To install packages to use jupyter notebook as rest api, run following in cmd\n",
    "# pip install jupyter_kernel_gateway\n",
    "# jupyter kernelgateway --generate-config\n",
    "# run the the next line in terminal to start server, at folder containing this file\n",
    "# jupyter kernelgateway --KernelGatewayApp.api='kernel_gateway.notebook_http' --KernelGatewayApp.seed_uri='Backend_Test.ipynb'"
   ]
  },
  {
   "cell_type": "code",
   "execution_count": null,
   "id": "65a10a32",
   "metadata": {},
   "outputs": [],
   "source": [
    "import math\n",
    "import json\n",
    "import random"
   ]
  },
  {
   "cell_type": "code",
   "execution_count": null,
   "id": "3a898a3f",
   "metadata": {},
   "outputs": [],
   "source": [
    "# GET /convert\n",
    "req = json.loads(REQUEST)\n",
    "args = req['args']\n",
    "\n",
    "if 'angle' not in args:\n",
    "  print(json.dumps({'convertedAngle': None}))\n",
    "else:\n",
    "  # Note the [0] when retrieving the argument.\n",
    "  # This is because you could potentially pass multiple angles.\n",
    "  angle = int(args['angle'][0])\n",
    "  converted = math.radians(angle)\n",
    "  print(json.dumps({'convertedAngle': converted}))"
   ]
  },
  {
   "cell_type": "code",
   "execution_count": null,
   "id": "9998a675",
   "metadata": {},
   "outputs": [],
   "source": [
    "# POST /test\n",
    "req = json.loads(REQUEST)\n",
    "\n",
    "reqBody = req['body']\n",
    "\n",
    "if 'angle' not in reqBody:\n",
    "    print(json.dumps({'convertedAngle': None}))\n",
    "else:\n",
    "    # Note the [0] when retrieving the argument.\n",
    "    # This is because you could potentially pass multiple angles.\n",
    "    angle = int(req['body']['angle'][0])\n",
    "    converted = math.radians(angle)\n",
    "    print(json.dumps({'convertedAngle': converted}))\n"
   ]
  },
  {
   "cell_type": "code",
   "execution_count": null,
   "id": "7daf9445",
   "metadata": {},
   "outputs": [],
   "source": [
    "# GET /recommendCoffee\n",
    "\n",
    "#this request will return a random coffe from the lsit below\n",
    "req = json.loads(REQUEST)\n",
    "\n",
    "reqBody = req['body']\n",
    "\n",
    "coffeeList = ['HARU','KEBEDE MARO','AQUIARES ESTATE','DUROMINA','KEBEDE MARO','IJEN LESTARI','BEDESSA','MAHEMBE GITUNTU','V','Karora','KANGOCHO AA','BOMBA DE FRUTA #1','FINCALA VIRGEN','BENTI NENKA #1','VILLA BETULIA','FINCA LAS MARIAS','FINCA EL CARMEN','SITIO VARGEM GRANDE #1','LOS IDOLOS','MANANTIALES','LA CLAUDINA #1','LA SALINA ORGANIC','SITIO VARGEM GRANDE #5','KINGHA COLLECTIVE #2','MAHEMBE #3','SITIO VARGEM GRANDE #2','LAS MARGARITAS','FAZENDA IP','BENTI NENKA','UBUMWE','FRUTA MADURA','LA CLAUDINA','NOVA','AQUIARES ESTATE','RARO']\n",
    "\n",
    "randomCoffee = random.sample(coffeeList, 3)\n",
    "\n",
    "print(json.dumps({'Recommendations': randomCoffee}))"
   ]
  },
  {
   "cell_type": "code",
   "execution_count": null,
   "id": "4f55d6ac",
   "metadata": {},
   "outputs": [],
   "source": [
    "# POST /recommendCoffee\n",
    "\n",
    "#this request will return a random coffe from the lsit below\n",
    "req = json.loads(REQUEST)\n",
    "\n",
    "reqBody = req['body']\n",
    "\n",
    "coffeeList = ['HARU','KEBEDE MARO','AQUIARES ESTATE','DUROMINA','KEBEDE MARO','IJEN LESTARI','BEDESSA','MAHEMBE GITUNTU','V','Karora','KANGOCHO AA','BOMBA DE FRUTA #1','FINCALA VIRGEN','BENTI NENKA #1','VILLA BETULIA','FINCA LAS MARIAS','FINCA EL CARMEN','SITIO VARGEM GRANDE #1','LOS IDOLOS','MANANTIALES','LA CLAUDINA #1','LA SALINA ORGANIC','SITIO VARGEM GRANDE #5','KINGHA COLLECTIVE #2','MAHEMBE #3','SITIO VARGEM GRANDE #2','LAS MARGARITAS','FAZENDA IP','BENTI NENKA','UBUMWE','FRUTA MADURA','LA CLAUDINA','NOVA','AQUIARES ESTATE','RARO']\n",
    "\n",
    "randomCoffee = random.sample(coffeeList, 3)\n",
    "\n",
    "print(json.dumps({'Recommendations': randomCoffee}))"
   ]
  }
 ],
 "metadata": {
  "kernelspec": {
   "display_name": "Python 3 (ipykernel)",
   "language": "python",
   "name": "python3"
  },
  "language_info": {
   "codemirror_mode": {
    "name": "ipython",
    "version": 3
   },
   "file_extension": ".py",
   "mimetype": "text/x-python",
   "name": "python",
   "nbconvert_exporter": "python",
   "pygments_lexer": "ipython3",
   "version": "3.9.16"
  }
 },
 "nbformat": 4,
 "nbformat_minor": 5
}
